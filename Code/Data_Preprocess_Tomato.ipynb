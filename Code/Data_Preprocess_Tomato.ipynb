{
 "cells": [
  {
   "cell_type": "code",
   "execution_count": null,
   "metadata": {},
   "outputs": [],
   "source": [
    "import numpy as np\n",
    "import pandas as pd\n",
    "import matplotlib.pyplot as plt\n",
    "import datetime as dt\n",
    "from arch import arch_model\n",
    "import statsmodels.api as sm"
   ]
  },
  {
   "cell_type": "code",
   "execution_count": null,
   "metadata": {},
   "outputs": [],
   "source": [
    "df = pd.read_excel(\"/content/raw_data_tomato.xlsx\")\n",
    "df"
   ]
  },
  {
   "cell_type": "code",
   "execution_count": null,
   "metadata": {},
   "outputs": [],
   "source": [
    "# Ensure the 'Date' column is of datetime type\n",
    "df['Date'] = pd.to_datetime(df['Date'])\n",
    "\n",
    "# Sort the DataFrame by the 'Date' column\n",
    "df.sort_values(by='Date', inplace=True)\n",
    "\n",
    "# Generate a list of consecutive dates\n",
    "start_date = df['Date'].min()\n",
    "end_date = df['Date'].max()"
   ]
  },
  {
   "cell_type": "code",
   "execution_count": null,
   "metadata": {},
   "outputs": [],
   "source": [
    "date_range = pd.date_range(start_date, end_date, freq='D')"
   ]
  },
  {
   "cell_type": "code",
   "execution_count": null,
   "metadata": {},
   "outputs": [],
   "source": [
    "# Find missing dates\n",
    "missing_dates = date_range[~date_range.isin(df['Date'])]\n",
    "\n",
    "# Create a DataFrame for missing dates with NaN values for 'Price'\n",
    "missing_df = pd.DataFrame({'Date': missing_dates, 'Price': np.nan})\n",
    "missing_df"
   ]
  },
  {
   "cell_type": "code",
   "execution_count": null,
   "metadata": {},
   "outputs": [],
   "source": [
    "# Concatenate the original DataFrame and the missing dates DataFrame\n",
    "df = pd.concat([df, missing_df], ignore_index=True)\n",
    "df\n",
    "# Sort the DataFrame by 'Date' again\n",
    "df.sort_values(by='Date', inplace=True)"
   ]
  },
  {
   "cell_type": "code",
   "execution_count": null,
   "metadata": {},
   "outputs": [],
   "source": [
    "df['Date'].drop_duplicates"
   ]
  },
  {
   "cell_type": "code",
   "execution_count": null,
   "metadata": {},
   "outputs": [],
   "source": [
    "import pandas as pd\n",
    "\n",
    "# Calculate a rolling average for the 'Value' column with a window of 3 days\n",
    "rolling_window = 7\n",
    "df['Price'] = df['Price'].fillna(df['Price'].rolling(window=rolling_window, min_periods=1).mean())\n",
    "df['Arrival'] = df['Arrival'].fillna(df['Arrival'].rolling(window=rolling_window, min_periods=1).mean())\n",
    "\n",
    "# Print the DataFrame with the rolling average\n",
    "# print(df)\n",
    "df.isna().sum()\n"
   ]
  },
  {
   "cell_type": "code",
   "execution_count": null,
   "metadata": {},
   "outputs": [],
   "source": [
    "# Save the updated DataFrame to a new Excel file\n",
    "output_excel_path = \"D:/AAU/Module_4/Project_mo_4/pune_tomato_market.xlsx\"\n",
    "df.to_excel(output_excel_path, index=False)"
   ]
  }
 ],
 "metadata": {
  "language_info": {
   "name": "python"
  }
 },
 "nbformat": 4,
 "nbformat_minor": 2
}
